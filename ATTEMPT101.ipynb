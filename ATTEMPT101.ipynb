{
 "cells": [
  {
   "cell_type": "code",
   "execution_count": 1,
   "metadata": {},
   "outputs": [],
   "source": [
    "# Convert DICOM to PNG via openCV\n",
    "import cv2\n",
    "import os\n",
    "import pydicom\n",
    "import glob\n",
    "\n",
    "inputdir = './'\n",
    "outdir = './'\n",
    "#os.mkdir(outdir)\n",
    "\n",
    "test_list = [os.path.basename(x) for x in glob.glob(inputdir + './*.dcm')]\n",
    "\n",
    "for f in test_list:   \n",
    "    ds = pydicom.read_file(inputdir + f) # read dicom image\n",
    "    img = ds.pixel_array # get image array\n",
    "    cv2.imwrite(outdir + f.replace('.dcm','.png'),img) # write png image"
   ]
  },
  {
   "cell_type": "code",
   "execution_count": null,
   "metadata": {},
   "outputs": [],
   "source": []
  },
  {
   "cell_type": "code",
   "execution_count": null,
   "metadata": {},
   "outputs": [],
   "source": []
  }
 ],
 "metadata": {
  "kernelspec": {
   "display_name": "Python 3",
   "language": "python",
   "name": "python3"
  },
  "language_info": {
   "codemirror_mode": {
    "name": "ipython",
    "version": 3
   },
   "file_extension": ".py",
   "mimetype": "text/x-python",
   "name": "python",
   "nbconvert_exporter": "python",
   "pygments_lexer": "ipython3",
   "version": "3.7.3"
  }
 },
 "nbformat": 4,
 "nbformat_minor": 2
}
